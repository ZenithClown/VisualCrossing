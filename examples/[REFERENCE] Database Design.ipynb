{
 "cells": [
  {
   "cell_type": "markdown",
   "id": "084cd116",
   "metadata": {},
   "source": [
    "<p style=\" text-align:justify; \">The document presents a tentative database schema design for Weather Data. Schema considers <code>VisualCrossing</code> as the data source, and thus fields and relevant informations are provided. Design is done so that both historical as well as predicted data can be stored. Using <a href = \"https://www.sqlite.org/index.html\"><code>SQLite3</code></a> as database engine.</p>"
   ]
  },
  {
   "cell_type": "code",
   "execution_count": 1,
   "id": "02dd7510",
   "metadata": {
    "ExecuteTime": {
     "end_time": "2021-11-14T18:00:54.574482Z",
     "start_time": "2021-11-14T18:00:54.562529Z"
    }
   },
   "outputs": [],
   "source": [
    "import sqlite3"
   ]
  },
  {
   "cell_type": "code",
   "execution_count": 2,
   "id": "66cde01d",
   "metadata": {
    "ExecuteTime": {
     "end_time": "2021-11-14T18:00:54.583627Z",
     "start_time": "2021-11-14T18:00:54.578457Z"
    }
   },
   "outputs": [],
   "source": [
    "DB_NAME = \"weather-data\""
   ]
  },
  {
   "cell_type": "code",
   "execution_count": 3,
   "id": "715eaf9c",
   "metadata": {
    "ExecuteTime": {
     "end_time": "2021-11-14T18:00:54.592301Z",
     "start_time": "2021-11-14T18:00:54.586739Z"
    }
   },
   "outputs": [],
   "source": [
    "con = sqlite3.connect(f\"{DB_NAME}.db\") # connection engine"
   ]
  },
  {
   "cell_type": "markdown",
   "id": "e5492c32",
   "metadata": {},
   "source": [
    "**TODO:** add different tables and design here."
   ]
  },
  {
   "cell_type": "code",
   "execution_count": 6,
   "id": "ec45ad43",
   "metadata": {
    "ExecuteTime": {
     "end_time": "2021-11-14T18:01:02.779004Z",
     "start_time": "2021-11-14T18:01:02.772390Z"
    }
   },
   "outputs": [],
   "source": [
    "con.close()"
   ]
  }
 ],
 "metadata": {
  "kernelspec": {
   "display_name": "Python 3 (ipykernel)",
   "language": "python",
   "name": "python3"
  },
  "language_info": {
   "codemirror_mode": {
    "name": "ipython",
    "version": 3
   },
   "file_extension": ".py",
   "mimetype": "text/x-python",
   "name": "python",
   "nbconvert_exporter": "python",
   "pygments_lexer": "ipython3",
   "version": "3.9.13"
  },
  "latex_envs": {
   "LaTeX_envs_menu_present": true,
   "autoclose": false,
   "autocomplete": true,
   "bibliofile": "biblio.bib",
   "cite_by": "apalike",
   "current_citInitial": 1,
   "eqLabelWithNumbers": true,
   "eqNumInitial": 1,
   "hotkeys": {
    "equation": "Ctrl-E",
    "itemize": "Ctrl-I"
   },
   "labels_anchors": false,
   "latex_user_defs": false,
   "report_style_numbering": false,
   "user_envs_cfg": false
  },
  "toc": {
   "base_numbering": 1,
   "nav_menu": {},
   "number_sections": true,
   "sideBar": true,
   "skip_h1_title": true,
   "title_cell": "Table of Contents",
   "title_sidebar": "Contents",
   "toc_cell": false,
   "toc_position": {},
   "toc_section_display": true,
   "toc_window_display": false
  },
  "varInspector": {
   "cols": {
    "lenName": 16,
    "lenType": 16,
    "lenVar": 40
   },
   "kernels_config": {
    "python": {
     "delete_cmd_postfix": "",
     "delete_cmd_prefix": "del ",
     "library": "var_list.py",
     "varRefreshCmd": "print(var_dic_list())"
    },
    "r": {
     "delete_cmd_postfix": ") ",
     "delete_cmd_prefix": "rm(",
     "library": "var_list.r",
     "varRefreshCmd": "cat(var_dic_list()) "
    }
   },
   "types_to_exclude": [
    "module",
    "function",
    "builtin_function_or_method",
    "instance",
    "_Feature"
   ],
   "window_display": false
  }
 },
 "nbformat": 4,
 "nbformat_minor": 5
}
