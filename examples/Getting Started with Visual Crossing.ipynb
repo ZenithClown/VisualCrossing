{
 "cells": [
  {
   "cell_type": "code",
   "execution_count": 1,
   "metadata": {
    "ExecuteTime": {
     "end_time": "2021-10-01T08:27:46.568303Z",
     "start_time": "2021-10-01T08:27:41.936251Z"
    }
   },
   "outputs": [],
   "source": [
    "import numpy as np\n",
    "import pandas as pd"
   ]
  },
  {
   "cell_type": "code",
   "execution_count": 2,
   "metadata": {
    "ExecuteTime": {
     "end_time": "2021-10-01T08:27:46.693474Z",
     "start_time": "2021-10-01T08:27:46.601703Z"
    }
   },
   "outputs": [],
   "source": [
    "from VisualCrossing import API"
   ]
  },
  {
   "cell_type": "markdown",
   "metadata": {},
   "source": [
    "Location is also available by `(lat, lon)` pairs, for which you can also use [this website](https://www.latlong.net/) to find location easily."
   ]
  },
  {
   "cell_type": "code",
   "execution_count": 3,
   "metadata": {
    "ExecuteTime": {
     "end_time": "2021-10-01T08:28:24.751189Z",
     "start_time": "2021-10-01T08:28:24.748189Z"
    }
   },
   "outputs": [],
   "source": [
    "api = API(\"2021-09-25\", APIKey = \"<YOUR-API-KEY>\", location = \"india\", contentType = \"csv\", aggregateHours = 1) # by default contentType = \"csv\" returns a dataframe"
   ]
  },
  {
   "cell_type": "code",
   "execution_count": 4,
   "metadata": {
    "ExecuteTime": {
     "end_time": "2021-10-01T08:28:34.821460Z",
     "start_time": "2021-10-01T08:28:33.358946Z"
    }
   },
   "outputs": [
    {
     "name": "stderr",
     "output_type": "stream",
     "text": [
      "D:\\Anaconda3\\lib\\site-packages\\urllib3\\connectionpool.py:979: InsecureRequestWarning: Unverified HTTPS request is being made to host 'weather.visualcrossing.com'. Adding certificate verification is strongly advised. See: https://urllib3.readthedocs.io/en/latest/advanced-usage.html#ssl-warnings\n",
      "  warnings.warn(\n"
     ]
    },
    {
     "data": {
      "text/html": [
       "<div>\n",
       "<style scoped>\n",
       "    .dataframe tbody tr th:only-of-type {\n",
       "        vertical-align: middle;\n",
       "    }\n",
       "\n",
       "    .dataframe tbody tr th {\n",
       "        vertical-align: top;\n",
       "    }\n",
       "\n",
       "    .dataframe thead th {\n",
       "        text-align: right;\n",
       "    }\n",
       "</style>\n",
       "<table border=\"1\" class=\"dataframe\">\n",
       "  <thead>\n",
       "    <tr style=\"text-align: right;\">\n",
       "      <th></th>\n",
       "      <th>Address</th>\n",
       "      <th>Date time</th>\n",
       "      <th>Minimum Temperature</th>\n",
       "      <th>Maximum Temperature</th>\n",
       "      <th>Temperature</th>\n",
       "      <th>Dew Point</th>\n",
       "      <th>Relative Humidity</th>\n",
       "      <th>Heat Index</th>\n",
       "      <th>Wind Speed</th>\n",
       "      <th>Wind Gust</th>\n",
       "      <th>...</th>\n",
       "      <th>Visibility</th>\n",
       "      <th>Cloud Cover</th>\n",
       "      <th>Sea Level Pressure</th>\n",
       "      <th>Weather Type</th>\n",
       "      <th>Latitude</th>\n",
       "      <th>Longitude</th>\n",
       "      <th>Resolved Address</th>\n",
       "      <th>Name</th>\n",
       "      <th>Info</th>\n",
       "      <th>Conditions</th>\n",
       "    </tr>\n",
       "  </thead>\n",
       "  <tbody>\n",
       "    <tr>\n",
       "      <th>0</th>\n",
       "      <td>india</td>\n",
       "      <td>09/25/2021 00:00:00</td>\n",
       "      <td>27.0</td>\n",
       "      <td>27.0</td>\n",
       "      <td>27.0</td>\n",
       "      <td>26.0</td>\n",
       "      <td>94.27</td>\n",
       "      <td>31.0</td>\n",
       "      <td>7.6</td>\n",
       "      <td>NaN</td>\n",
       "      <td>...</td>\n",
       "      <td>4.0</td>\n",
       "      <td>88.0</td>\n",
       "      <td>1008.0</td>\n",
       "      <td>NaN</td>\n",
       "      <td>28.631</td>\n",
       "      <td>77.2172</td>\n",
       "      <td>India</td>\n",
       "      <td>India</td>\n",
       "      <td>NaN</td>\n",
       "      <td>Overcast</td>\n",
       "    </tr>\n",
       "    <tr>\n",
       "      <th>1</th>\n",
       "      <td>india</td>\n",
       "      <td>09/25/2021 01:00:00</td>\n",
       "      <td>26.0</td>\n",
       "      <td>26.0</td>\n",
       "      <td>26.0</td>\n",
       "      <td>25.0</td>\n",
       "      <td>94.23</td>\n",
       "      <td>NaN</td>\n",
       "      <td>7.6</td>\n",
       "      <td>NaN</td>\n",
       "      <td>...</td>\n",
       "      <td>4.0</td>\n",
       "      <td>88.0</td>\n",
       "      <td>1008.0</td>\n",
       "      <td>NaN</td>\n",
       "      <td>28.631</td>\n",
       "      <td>77.2172</td>\n",
       "      <td>India</td>\n",
       "      <td>India</td>\n",
       "      <td>NaN</td>\n",
       "      <td>Overcast</td>\n",
       "    </tr>\n",
       "    <tr>\n",
       "      <th>2</th>\n",
       "      <td>india</td>\n",
       "      <td>09/25/2021 02:00:00</td>\n",
       "      <td>26.0</td>\n",
       "      <td>26.0</td>\n",
       "      <td>26.0</td>\n",
       "      <td>25.0</td>\n",
       "      <td>94.23</td>\n",
       "      <td>NaN</td>\n",
       "      <td>7.6</td>\n",
       "      <td>NaN</td>\n",
       "      <td>...</td>\n",
       "      <td>4.0</td>\n",
       "      <td>88.0</td>\n",
       "      <td>1008.0</td>\n",
       "      <td>NaN</td>\n",
       "      <td>28.631</td>\n",
       "      <td>77.2172</td>\n",
       "      <td>India</td>\n",
       "      <td>India</td>\n",
       "      <td>NaN</td>\n",
       "      <td>Overcast</td>\n",
       "    </tr>\n",
       "    <tr>\n",
       "      <th>3</th>\n",
       "      <td>india</td>\n",
       "      <td>09/25/2021 03:00:00</td>\n",
       "      <td>26.0</td>\n",
       "      <td>26.0</td>\n",
       "      <td>26.0</td>\n",
       "      <td>25.0</td>\n",
       "      <td>94.23</td>\n",
       "      <td>NaN</td>\n",
       "      <td>7.6</td>\n",
       "      <td>NaN</td>\n",
       "      <td>...</td>\n",
       "      <td>4.0</td>\n",
       "      <td>88.0</td>\n",
       "      <td>1008.0</td>\n",
       "      <td>NaN</td>\n",
       "      <td>28.631</td>\n",
       "      <td>77.2172</td>\n",
       "      <td>India</td>\n",
       "      <td>India</td>\n",
       "      <td>NaN</td>\n",
       "      <td>Overcast</td>\n",
       "    </tr>\n",
       "    <tr>\n",
       "      <th>4</th>\n",
       "      <td>india</td>\n",
       "      <td>09/25/2021 04:00:00</td>\n",
       "      <td>26.0</td>\n",
       "      <td>26.0</td>\n",
       "      <td>26.0</td>\n",
       "      <td>25.0</td>\n",
       "      <td>94.23</td>\n",
       "      <td>NaN</td>\n",
       "      <td>0.0</td>\n",
       "      <td>NaN</td>\n",
       "      <td>...</td>\n",
       "      <td>3.0</td>\n",
       "      <td>50.0</td>\n",
       "      <td>1007.0</td>\n",
       "      <td>NaN</td>\n",
       "      <td>28.631</td>\n",
       "      <td>77.2172</td>\n",
       "      <td>India</td>\n",
       "      <td>India</td>\n",
       "      <td>NaN</td>\n",
       "      <td>Partially cloudy</td>\n",
       "    </tr>\n",
       "  </tbody>\n",
       "</table>\n",
       "<p>5 rows × 25 columns</p>\n",
       "</div>"
      ],
      "text/plain": [
       "  Address            Date time  Minimum Temperature  Maximum Temperature  \\\n",
       "0   india  09/25/2021 00:00:00                 27.0                 27.0   \n",
       "1   india  09/25/2021 01:00:00                 26.0                 26.0   \n",
       "2   india  09/25/2021 02:00:00                 26.0                 26.0   \n",
       "3   india  09/25/2021 03:00:00                 26.0                 26.0   \n",
       "4   india  09/25/2021 04:00:00                 26.0                 26.0   \n",
       "\n",
       "   Temperature  Dew Point  Relative Humidity  Heat Index  Wind Speed  \\\n",
       "0         27.0       26.0              94.27        31.0         7.6   \n",
       "1         26.0       25.0              94.23         NaN         7.6   \n",
       "2         26.0       25.0              94.23         NaN         7.6   \n",
       "3         26.0       25.0              94.23         NaN         7.6   \n",
       "4         26.0       25.0              94.23         NaN         0.0   \n",
       "\n",
       "   Wind Gust  ...  Visibility  Cloud Cover  Sea Level Pressure  Weather Type  \\\n",
       "0        NaN  ...         4.0         88.0              1008.0           NaN   \n",
       "1        NaN  ...         4.0         88.0              1008.0           NaN   \n",
       "2        NaN  ...         4.0         88.0              1008.0           NaN   \n",
       "3        NaN  ...         4.0         88.0              1008.0           NaN   \n",
       "4        NaN  ...         3.0         50.0              1007.0           NaN   \n",
       "\n",
       "   Latitude  Longitude  Resolved Address   Name  Info        Conditions  \n",
       "0    28.631    77.2172             India  India   NaN          Overcast  \n",
       "1    28.631    77.2172             India  India   NaN          Overcast  \n",
       "2    28.631    77.2172             India  India   NaN          Overcast  \n",
       "3    28.631    77.2172             India  India   NaN          Overcast  \n",
       "4    28.631    77.2172             India  India   NaN  Partially cloudy  \n",
       "\n",
       "[5 rows x 25 columns]"
      ]
     },
     "execution_count": 4,
     "metadata": {},
     "output_type": "execute_result"
    }
   ],
   "source": [
    "data = api.get()\n",
    "data.head()"
   ]
  }
 ],
 "metadata": {
  "hide_input": false,
  "kernelspec": {
   "display_name": "Python 3",
   "language": "python",
   "name": "python3"
  },
  "language_info": {
   "codemirror_mode": {
    "name": "ipython",
    "version": 3
   },
   "file_extension": ".py",
   "mimetype": "text/x-python",
   "name": "python",
   "nbconvert_exporter": "python",
   "pygments_lexer": "ipython3",
   "version": "3.8.3"
  },
  "latex_envs": {
   "LaTeX_envs_menu_present": true,
   "autoclose": true,
   "autocomplete": true,
   "bibliofile": "biblio.bib",
   "cite_by": "apalike",
   "current_citInitial": 1,
   "eqLabelWithNumbers": true,
   "eqNumInitial": 1,
   "hotkeys": {
    "equation": "Ctrl-E",
    "itemize": "Ctrl-I"
   },
   "labels_anchors": false,
   "latex_user_defs": false,
   "report_style_numbering": false,
   "user_envs_cfg": false
  },
  "toc": {
   "base_numbering": 1,
   "nav_menu": {},
   "number_sections": false,
   "sideBar": true,
   "skip_h1_title": true,
   "title_cell": "Table of Contents",
   "title_sidebar": "Contents",
   "toc_cell": false,
   "toc_position": {},
   "toc_section_display": true,
   "toc_window_display": false
  },
  "varInspector": {
   "cols": {
    "lenName": 16,
    "lenType": 16,
    "lenVar": 40
   },
   "kernels_config": {
    "python": {
     "delete_cmd_postfix": "",
     "delete_cmd_prefix": "del ",
     "library": "var_list.py",
     "varRefreshCmd": "print(var_dic_list())"
    },
    "r": {
     "delete_cmd_postfix": ") ",
     "delete_cmd_prefix": "rm(",
     "library": "var_list.r",
     "varRefreshCmd": "cat(var_dic_list()) "
    }
   },
   "types_to_exclude": [
    "module",
    "function",
    "builtin_function_or_method",
    "instance",
    "_Feature"
   ],
   "window_display": false
  }
 },
 "nbformat": 4,
 "nbformat_minor": 2
}
