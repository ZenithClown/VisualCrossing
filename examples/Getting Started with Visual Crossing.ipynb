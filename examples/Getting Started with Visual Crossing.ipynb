{
 "cells": [
  {
   "cell_type": "code",
   "execution_count": 2,
   "metadata": {
    "ExecuteTime": {
     "end_time": "2021-10-19T10:56:05.636550Z",
     "start_time": "2021-10-19T10:56:05.315187Z"
    }
   },
   "outputs": [],
   "source": [
    "import numpy as np\n",
    "import pandas as pd"
   ]
  },
  {
   "cell_type": "code",
   "execution_count": 3,
   "metadata": {
    "ExecuteTime": {
     "end_time": "2021-10-19T10:56:05.659671Z",
     "start_time": "2021-10-19T10:56:05.639110Z"
    }
   },
   "outputs": [
    {
     "data": {
      "text/plain": [
       "True"
      ]
     },
     "execution_count": 3,
     "metadata": {},
     "output_type": "execute_result"
    }
   ],
   "source": [
    "# setting the environment\n",
    "# if required, pip install python-dotenv\n",
    "from dotenv import load_dotenv # Python 3.6+\n",
    "load_dotenv(verbose = True) # configure .env File or set Environment Variables"
   ]
  },
  {
   "cell_type": "markdown",
   "metadata": {},
   "source": [
    "<p style=\" text-align:justify; \"><b><code>VisualCrossing</code></b> is a simple to use package to retreive data weather data from <a href = \"https://www.visualcrossing.com/weather-data\">VisualCrossing</a> (website name same as that of the package). The API is so configured, that just 4-5 lines of code is sufficient to retreive data easily. The website features both historic as well as report on weather forecast. For more information, <a href = \"https://www.visualcrossing.com/resources/documentation/\">check documentation</a> for the same.</p>\n",
    "\n",
    "<p style=\" text-align:justify; \">This document is designed to provide a <i>quick start guide</i> for anyone who wants to test the code. Currently, the code is in <code>Development Status :: 4 - Beta</code>, thus obviously code and functionalities will be upgraded with new features. <b>Note:</b> minimal documentation is currently provided, and will be updated in time.</p>\n",
    "\n",
    "Get started by `pip install VisualCrossing`, and then import the package as:"
   ]
  },
  {
   "cell_type": "code",
   "execution_count": 4,
   "metadata": {
    "ExecuteTime": {
     "end_time": "2021-10-19T10:56:05.741333Z",
     "start_time": "2021-10-19T10:56:05.664416Z"
    }
   },
   "outputs": [
    {
     "name": "stdout",
     "output_type": "stream",
     "text": [
      "0.1.0-beta\n"
     ]
    }
   ],
   "source": [
    "import VisualCrossing as vc\n",
    "\n",
    "# get installed version\n",
    "print(vc.__version__)"
   ]
  },
  {
   "cell_type": "code",
   "execution_count": 6,
   "metadata": {
    "ExecuteTime": {
     "end_time": "2021-10-19T10:25:29.303119Z",
     "start_time": "2021-10-19T10:25:29.290595Z"
    },
    "collapsed": true,
    "deletable": false,
    "editable": false,
    "run_control": {
     "frozen": true
    }
   },
   "outputs": [
    {
     "name": "stdout",
     "output_type": "stream",
     "text": [
      "Help on class API in module VisualCrossing.api:\n",
      "\n",
      "class API(VisualCrossing.base)\n",
      " |  API(date: str, APIKey: str, location: str, **kwargs)\n",
      " |  \n",
      " |  A python wrapper to fetch weather data from VisualCrossing\n",
      " |  \n",
      " |  The function is devised keeping in mind - minimal coding approach, and recurrent job-scheduling\n",
      " |  for any person. All the keyword arguments that the API accepts are same as that available\n",
      " |  in the Visual Crossing API Documentation (check README for more information). The API is configured\n",
      " |  with default values, which is easier to understand and retreive. However, the data requires certain\n",
      " |  required arguments defined below. The same can also be obtained from `config.json` file, but is not\n",
      " |  recomended.\n",
      " |  \n",
      " |  :param date: Date for which weather data is required. Pass the date in `YYYY-MM-DD` format,\n",
      " |               or pass `FORCAST` to get the forecasted data for a particular date.\n",
      " |  \n",
      " |  :param APIKey: All VisualCrossing API calls are made with an API key associated with your billing/free\n",
      " |                 account. Get yourself a new Key, if you do not have one. It is advised that the key\n",
      " |                 is not written to a configuration file, and suitable `environment variables` should\n",
      " |                 be called/defined. However, there is a dedicated function :func:`get_key_from_config`\n",
      " |                 which can be used to get `APIKey` from configuration file, which should be defined\n",
      " |                 under `__api_key__`. The key can also be written into file either passing `key` or\n",
      " |                 `__api_key__` as a keyword argument to :func:`generate_config`. # TODO\n",
      " |  \n",
      " |  :param location: Location of which the weather is required. Defaults to either a place name (like `india`),\n",
      " |                   or, you can directly pass the coordinates of the particular place as (like `(long, lat)`),\n",
      " |                   or, you can also pass a list/set of locations (either name or coordinates.) # TODO\n",
      " |  \n",
      " |  :Keyword Arguments:\n",
      " |      * *endDate* (``str``) -- When end date is defined, the api fetches data for a given date\n",
      " |        range which starts from :param:`date` to `endDate`, else only singe day data is fetched.\n",
      " |        By default, only a single day data is fetched by setting start and end date as :param:`date`.\n",
      " |  \n",
      " |      * *unitGroup* (``str``) -- specify unit group, defaults to metric.\n",
      " |  \n",
      " |      * *contentType* (``str``) -- specify content type, defaults to csv.\n",
      " |  \n",
      " |      * *aggregateHours* (``str``) -- specify aggregate hours, defaults to 24 (daily).\n",
      " |  \n",
      " |  Method resolution order:\n",
      " |      API\n",
      " |      VisualCrossing.base\n",
      " |      builtins.object\n",
      " |  \n",
      " |  Methods defined here:\n",
      " |  \n",
      " |  BaseURL(self, location: str) -> str\n",
      " |      Base URL for fetching weather data. Check Visual-Crossing documentation for information.\n",
      " |  \n",
      " |  __init__(self, date: str, APIKey: str, location: str, **kwargs)\n",
      " |      Initialize self.  See help(type(self)) for accurate signature.\n",
      " |  \n",
      " |  get(self, **kwargs)\n",
      " |      Fetch API Data and Return in desirable Format\n",
      " |  \n",
      " |  queryType(self) -> str\n",
      " |      Set data query type to either `historical` or `forecast` as per given date choice\n",
      " |  \n",
      " |  ----------------------------------------------------------------------\n",
      " |  Methods inherited from VisualCrossing.base:\n",
      " |  \n",
      " |  __args_default__(self) -> dict\n",
      " |      Defines a Dictionary of Default Values for Keyword Arguments (or Attributes)\n",
      " |  \n",
      " |  __get_args_default__(self, args: str)\n",
      " |      Get the Default Value associated with a Keyword Argument\n",
      " |  \n",
      " |  __set_attr__(self, response: dict, **kwargs)\n",
      " |  \n",
      " |  generate_config(self, defaultSettings: bool = True, fileName: str = 'config.json', overwrite: bool = False, keepBackup: bool = True, **kwargs) -> bool\n",
      " |      Generate configuration file at `__homepath__` when executed\n",
      " |      \n",
      " |      The configuration file can be generated with default settings as defined at\n",
      " |      :func:`__args_default__` else, user is requested to pass all necessary settings\n",
      " |      in a correct format (as required by API) to the function, setting `key` as the\n",
      " |      attribute name, and `value` as the desired value. Users are also advised not to\n",
      " |      save the `API_KEY` in the configuration file (for security purpose), and to use\n",
      " |      :func:`_generate_key` to save the key file in an encrypted format.\n",
      " |      \n",
      " |      :param defaultSettings: Should you wish to save the configuration file with\n",
      " |                              the default settings. If set to `False` then user is\n",
      " |                              requested to pass all necessary attributes (`key`) and\n",
      " |                              their values. Defaults to `True`.\n",
      " |      \n",
      " |      :param fileName: Output file name (with extension - `json`). Defaults to\n",
      " |                       `config.json`.\n",
      " |      \n",
      " |      :param overwrite: Overwrite existing configuration file, if exists (same filename).\n",
      " |                        Defaults to `False`.\n",
      " |      \n",
      " |      :param keepBackup: If same file name exists, then setting the parameter to `True` will\n",
      " |                         create a backup of the file with the following format\n",
      " |                         `<original-name>.<UUID>.json` where `UUID` is a randomly generated\n",
      " |                         7-charecters long name. Defaults to `True`.\n",
      " |      \n",
      " |      Accepts n-Keyword Arguments, which are all default settings that can be used to initialize\n",
      " |      the API.\n",
      " |  \n",
      " |  get_key_from_config(self)\n",
      " |  \n",
      " |  set_config(self, file: str, **kwargs)\n",
      " |  \n",
      " |  ----------------------------------------------------------------------\n",
      " |  Readonly properties inherited from VisualCrossing.base:\n",
      " |  \n",
      " |  __optional_args__\n",
      " |      Get List of all the Optional Keyword Arguments Accepted by the API\n",
      " |  \n",
      " |  ----------------------------------------------------------------------\n",
      " |  Data descriptors inherited from VisualCrossing.base:\n",
      " |  \n",
      " |  __dict__\n",
      " |      dictionary for instance variables (if defined)\n",
      " |  \n",
      " |  __weakref__\n",
      " |      list of weak references to the object (if defined)\n",
      "\n"
     ]
    }
   ],
   "source": [
    "help(vc.API) # check documentation"
   ]
  },
  {
   "cell_type": "markdown",
   "metadata": {},
   "source": [
    "<p style=\" text-align:justify; \">The API can be configured with a <code>configuration</code> which is located at <code>HOME/.visualCrossing/config.json</code>, and an example file is provided in the directory. The file is set, such that same setting can be reused, or if required you can keep pre-defined templates to be used regularly.</p>\n",
    "\n",
    "All the attributes required, can be defined like:\n",
    "\n",
    "```json\n",
    "...\n",
    "    \"attributes\": {\n",
    "        \"unitGroup\": \"metric\",\n",
    "        \"contentType\": \"dataframe\",\n",
    "        \"aggregateHours\": 24\n",
    "    },\n",
    "...\n",
    "```\n",
    "\n",
    "The API requires three minimal options:\n",
    "1. Date for which the data is required, in `YYYY-MM-DD` format,\n",
    "2. API Key which can be obtained from [website](https://www.visualcrossing.com/weather-api), and\n",
    "3. Location for which data is required. The location can be of the following types:\n",
    "   * Name of a single place, like `\"india\"`,\n",
    "   * Coordinates of a place (if data for the coordinate is not available, then nearest location data is returned), this should be in `\"latitude,longitude\"` format,\n",
    "   * To retreive location for multiple location, pass the data like:\n",
    "   ```python\n",
    "    [\"india\", \"tokyo\"] # either passing names,\n",
    "    [\"20.593683,78.962883\", \"35.689487,139.691711\"] # passing list/tuple of coordinates,\n",
    "    (\"india\", \"35.689487,139.691711\") # or even a combination of name or coordinate\n",
    "   ```\n",
    "   * _you can also use US ZIP Codes_.\n",
    "\n",
    "Location is also available by `(lat, lon)` pairs, for which you can also use [this website](https://www.latlong.net/) to find location easily."
   ]
  },
  {
   "cell_type": "code",
   "execution_count": 5,
   "metadata": {
    "ExecuteTime": {
     "end_time": "2021-10-19T10:56:05.749405Z",
     "start_time": "2021-10-19T10:56:05.744026Z"
    }
   },
   "outputs": [],
   "source": [
    "locations = (\"india\", \"tokyo\")\n",
    "api = vc.API(\"2021-09-25\", APIKey = os.getenv(\"__api_key__\"), location = locations, contentType = \"dataframe\") # default parameters are set from `config.json`"
   ]
  },
  {
   "cell_type": "code",
   "execution_count": 6,
   "metadata": {
    "ExecuteTime": {
     "end_time": "2021-10-19T10:56:08.273752Z",
     "start_time": "2021-10-19T10:56:05.753306Z"
    }
   },
   "outputs": [
    {
     "name": "stderr",
     "output_type": "stream",
     "text": [
      "../VisualCrossing/api.py:160: VisibleDeprecationWarning: Creating an ndarray from ragged nested sequences (which is a list-or-tuple of lists-or-tuples-or ndarrays with different lengths or shapes) is deprecated. If you meant to do this, you must specify 'dtype=object' when creating the ndarray.\n",
      "  total = np.array([self._get_df_converted_data(loc, ssl_verify) for loc in self._location])\n"
     ]
    },
    {
     "data": {
      "text/html": [
       "<div>\n",
       "<style scoped>\n",
       "    .dataframe tbody tr th:only-of-type {\n",
       "        vertical-align: middle;\n",
       "    }\n",
       "\n",
       "    .dataframe tbody tr th {\n",
       "        vertical-align: top;\n",
       "    }\n",
       "\n",
       "    .dataframe thead th {\n",
       "        text-align: right;\n",
       "    }\n",
       "</style>\n",
       "<table border=\"1\" class=\"dataframe\">\n",
       "  <thead>\n",
       "    <tr style=\"text-align: right;\">\n",
       "      <th></th>\n",
       "      <th>Address</th>\n",
       "      <th>Date time</th>\n",
       "      <th>Minimum Temperature</th>\n",
       "      <th>Maximum Temperature</th>\n",
       "      <th>Temperature</th>\n",
       "      <th>Dew Point</th>\n",
       "      <th>Relative Humidity</th>\n",
       "      <th>Heat Index</th>\n",
       "      <th>Wind Speed</th>\n",
       "      <th>Wind Gust</th>\n",
       "      <th>...</th>\n",
       "      <th>Visibility</th>\n",
       "      <th>Cloud Cover</th>\n",
       "      <th>Sea Level Pressure</th>\n",
       "      <th>Weather Type</th>\n",
       "      <th>Latitude</th>\n",
       "      <th>Longitude</th>\n",
       "      <th>Resolved Address</th>\n",
       "      <th>Name</th>\n",
       "      <th>Info</th>\n",
       "      <th>Conditions</th>\n",
       "    </tr>\n",
       "  </thead>\n",
       "  <tbody>\n",
       "    <tr>\n",
       "      <th>0</th>\n",
       "      <td>india</td>\n",
       "      <td>09/25/2021</td>\n",
       "      <td>25.5</td>\n",
       "      <td>32.5</td>\n",
       "      <td>28.7</td>\n",
       "      <td>25.7</td>\n",
       "      <td>84.75</td>\n",
       "      <td>40.9</td>\n",
       "      <td>9.4</td>\n",
       "      <td>NaN</td>\n",
       "      <td>...</td>\n",
       "      <td>3.2</td>\n",
       "      <td>69.5</td>\n",
       "      <td>1006.3</td>\n",
       "      <td>Mist, Thunderstorm Without Precipitation, Smok...</td>\n",
       "      <td>28.6310</td>\n",
       "      <td>77.2172</td>\n",
       "      <td>India</td>\n",
       "      <td>India</td>\n",
       "      <td>NaN</td>\n",
       "      <td>Rain, Partially cloudy</td>\n",
       "    </tr>\n",
       "    <tr>\n",
       "      <th>0</th>\n",
       "      <td>tokyo</td>\n",
       "      <td>09/25/2021</td>\n",
       "      <td>20.4</td>\n",
       "      <td>24.1</td>\n",
       "      <td>22.2</td>\n",
       "      <td>17.2</td>\n",
       "      <td>73.29</td>\n",
       "      <td>NaN</td>\n",
       "      <td>18.1</td>\n",
       "      <td>NaN</td>\n",
       "      <td>...</td>\n",
       "      <td>18.8</td>\n",
       "      <td>25.4</td>\n",
       "      <td>1024.0</td>\n",
       "      <td>Rain, Light Rain, Sky Coverage Increasing, Smo...</td>\n",
       "      <td>35.6841</td>\n",
       "      <td>139.8090</td>\n",
       "      <td>Tokyo, Japan</td>\n",
       "      <td>Tokyo, Japan</td>\n",
       "      <td>NaN</td>\n",
       "      <td>Partially cloudy</td>\n",
       "    </tr>\n",
       "  </tbody>\n",
       "</table>\n",
       "<p>2 rows × 25 columns</p>\n",
       "</div>"
      ],
      "text/plain": [
       "  Address   Date time  Minimum Temperature  Maximum Temperature  Temperature  \\\n",
       "0   india  09/25/2021                 25.5                 32.5         28.7   \n",
       "0   tokyo  09/25/2021                 20.4                 24.1         22.2   \n",
       "\n",
       "   Dew Point  Relative Humidity  Heat Index  Wind Speed  Wind Gust  ...  \\\n",
       "0       25.7              84.75        40.9         9.4        NaN  ...   \n",
       "0       17.2              73.29         NaN        18.1        NaN  ...   \n",
       "\n",
       "   Visibility  Cloud Cover  Sea Level Pressure  \\\n",
       "0         3.2         69.5              1006.3   \n",
       "0        18.8         25.4              1024.0   \n",
       "\n",
       "                                        Weather Type  Latitude  Longitude  \\\n",
       "0  Mist, Thunderstorm Without Precipitation, Smok...   28.6310    77.2172   \n",
       "0  Rain, Light Rain, Sky Coverage Increasing, Smo...   35.6841   139.8090   \n",
       "\n",
       "   Resolved Address          Name Info              Conditions  \n",
       "0             India         India  NaN  Rain, Partially cloudy  \n",
       "0      Tokyo, Japan  Tokyo, Japan  NaN        Partially cloudy  \n",
       "\n",
       "[2 rows x 25 columns]"
      ]
     },
     "execution_count": 6,
     "metadata": {},
     "output_type": "execute_result"
    }
   ],
   "source": [
    "data = api.get(ssl_verify = True)\n",
    "data.head()"
   ]
  }
 ],
 "metadata": {
  "hide_input": false,
  "kernelspec": {
   "display_name": "Python 3",
   "language": "python",
   "name": "python3"
  },
  "language_info": {
   "codemirror_mode": {
    "name": "ipython",
    "version": 3
   },
   "file_extension": ".py",
   "mimetype": "text/x-python",
   "name": "python",
   "nbconvert_exporter": "python",
   "pygments_lexer": "ipython3",
   "version": "3.8.8"
  },
  "latex_envs": {
   "LaTeX_envs_menu_present": true,
   "autoclose": true,
   "autocomplete": true,
   "bibliofile": "biblio.bib",
   "cite_by": "apalike",
   "current_citInitial": 1,
   "eqLabelWithNumbers": true,
   "eqNumInitial": 1,
   "hotkeys": {
    "equation": "Ctrl-E",
    "itemize": "Ctrl-I"
   },
   "labels_anchors": false,
   "latex_user_defs": false,
   "report_style_numbering": false,
   "user_envs_cfg": false
  },
  "toc": {
   "base_numbering": 1,
   "nav_menu": {},
   "number_sections": false,
   "sideBar": true,
   "skip_h1_title": true,
   "title_cell": "Table of Contents",
   "title_sidebar": "Contents",
   "toc_cell": false,
   "toc_position": {},
   "toc_section_display": true,
   "toc_window_display": false
  },
  "varInspector": {
   "cols": {
    "lenName": 16,
    "lenType": 16,
    "lenVar": 40
   },
   "kernels_config": {
    "python": {
     "delete_cmd_postfix": "",
     "delete_cmd_prefix": "del ",
     "library": "var_list.py",
     "varRefreshCmd": "print(var_dic_list())"
    },
    "r": {
     "delete_cmd_postfix": ") ",
     "delete_cmd_prefix": "rm(",
     "library": "var_list.r",
     "varRefreshCmd": "cat(var_dic_list()) "
    }
   },
   "types_to_exclude": [
    "module",
    "function",
    "builtin_function_or_method",
    "instance",
    "_Feature"
   ],
   "window_display": false
  }
 },
 "nbformat": 4,
 "nbformat_minor": 2
}
