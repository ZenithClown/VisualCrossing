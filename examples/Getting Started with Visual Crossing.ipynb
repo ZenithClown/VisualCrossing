{
 "cells": [
  {
   "cell_type": "markdown",
   "metadata": {},
   "source": [
    "<h1 align = \"center\">Visual Crossing API</h1>"
   ]
  },
  {
   "cell_type": "code",
   "execution_count": 1,
   "metadata": {
    "ExecuteTime": {
     "end_time": "2024-01-31T19:07:29.244778Z",
     "start_time": "2024-01-31T19:07:29.232288Z"
    }
   },
   "outputs": [],
   "source": [
    "import os\n",
    "import sys"
   ]
  },
  {
   "cell_type": "code",
   "execution_count": 2,
   "metadata": {
    "ExecuteTime": {
     "end_time": "2024-01-31T19:07:29.260290Z",
     "start_time": "2024-01-31T19:07:29.246293Z"
    }
   },
   "outputs": [],
   "source": [
    "import json"
   ]
  },
  {
   "cell_type": "code",
   "execution_count": 3,
   "metadata": {
    "ExecuteTime": {
     "end_time": "2024-01-31T19:07:29.734029Z",
     "start_time": "2024-01-31T19:07:29.263291Z"
    }
   },
   "outputs": [],
   "source": [
    "import numpy as np\n",
    "import pandas as pd"
   ]
  },
  {
   "cell_type": "code",
   "execution_count": 4,
   "metadata": {
    "ExecuteTime": {
     "end_time": "2024-01-31T19:07:29.750009Z",
     "start_time": "2024-01-31T19:07:29.737000Z"
    }
   },
   "outputs": [],
   "source": [
    "from tqdm import tqdm as TQ"
   ]
  },
  {
   "cell_type": "code",
   "execution_count": 5,
   "metadata": {
    "ExecuteTime": {
     "end_time": "2024-01-31T19:07:30.641145Z",
     "start_time": "2024-01-31T19:07:29.751001Z"
    }
   },
   "outputs": [],
   "source": [
    "import ndprdconfig\n",
    "testDB = ndprdconfig.DBConnection(instance = \"ap-south-1-neuralnod-dev/test\")\n",
    "nxprdsys = ndprdconfig.DBConnection(instance = \"ap-south-1-neuralnod-dev\")\n",
    "\n",
    "engine_testdb = testDB.connect()\n",
    "engine_nxprdsys = nxprdsys.connect()"
   ]
  },
  {
   "cell_type": "code",
   "execution_count": 6,
   "metadata": {
    "ExecuteTime": {
     "end_time": "2024-01-31T19:07:30.841472Z",
     "start_time": "2024-01-31T19:07:30.642243Z"
    }
   },
   "outputs": [
    {
     "data": {
      "text/html": [
       "<div>\n",
       "<style scoped>\n",
       "    .dataframe tbody tr th:only-of-type {\n",
       "        vertical-align: middle;\n",
       "    }\n",
       "\n",
       "    .dataframe tbody tr th {\n",
       "        vertical-align: top;\n",
       "    }\n",
       "\n",
       "    .dataframe thead th {\n",
       "        text-align: right;\n",
       "    }\n",
       "</style>\n",
       "<table border=\"1\" class=\"dataframe\">\n",
       "  <thead>\n",
       "    <tr style=\"text-align: right;\">\n",
       "      <th></th>\n",
       "      <th>CityName</th>\n",
       "      <th>CityLocation</th>\n",
       "    </tr>\n",
       "    <tr>\n",
       "      <th>CityUUID</th>\n",
       "      <th></th>\n",
       "      <th></th>\n",
       "    </tr>\n",
       "  </thead>\n",
       "  <tbody>\n",
       "    <tr>\n",
       "      <th>27FBAC74-3AC7-4B8F-B44E-2FD21FE9BEFB</th>\n",
       "      <td>Rajahmundry</td>\n",
       "      <td>(17.00517, 81.77784)</td>\n",
       "    </tr>\n",
       "  </tbody>\n",
       "</table>\n",
       "</div>"
      ],
      "text/plain": [
       "                                         CityName          CityLocation\n",
       "CityUUID                                                               \n",
       "27FBAC74-3AC7-4B8F-B44E-2FD21FE9BEFB  Rajahmundry  (17.00517, 81.77784)"
      ]
     },
     "execution_count": 6,
     "metadata": {},
     "output_type": "execute_result"
    }
   ],
   "source": [
    "mwCities = \"\"\"\n",
    "SELECT\n",
    "    CityUUID\n",
    "    , CityName\n",
    "    , CONCAT(CityLatitude, ',', CityLongitude) AS CityLocation\n",
    "FROM `dbo.mwCities`\n",
    "WHERE _get_weather_data = 1\n",
    "\"\"\"\n",
    "\n",
    "mwCities = pd.read_sql(mwCities, engine_nxprdsys, index_col = \"CityUUID\")\n",
    "mwCities[\"CityLocation\"] = mwCities[\"CityLocation\"].apply(eval) # sql statement format ensures tuple conversion\n",
    "\n",
    "mwCities.sample()"
   ]
  },
  {
   "cell_type": "code",
   "execution_count": 7,
   "metadata": {
    "ExecuteTime": {
     "end_time": "2024-01-31T19:07:30.888014Z",
     "start_time": "2024-01-31T19:07:30.842472Z"
    }
   },
   "outputs": [],
   "source": [
    "engine_nxprdsys.close()"
   ]
  },
  {
   "cell_type": "code",
   "execution_count": 8,
   "metadata": {
    "ExecuteTime": {
     "end_time": "2024-01-31T19:07:30.904050Z",
     "start_time": "2024-01-31T19:07:30.889724Z"
    }
   },
   "outputs": [],
   "source": [
    "sys.path.append(\"E:\\\\VisualCrossing\")"
   ]
  },
  {
   "cell_type": "markdown",
   "metadata": {},
   "source": [
    "<p style=\" text-align:justify; \"><b><code>VisualCrossing</code></b> is a simple to use package to retreive data weather data from <a href = \"https://www.visualcrossing.com/weather-data\">VisualCrossing</a> (website name same as that of the package). The API is so configured, that just 4-5 lines of code is sufficient to retreive data easily. The website features both historic as well as report on weather forecast. For more information, <a href = \"https://www.visualcrossing.com/resources/documentation/\">check documentation</a> for the same.</p>\n",
    "\n",
    "<p style=\" text-align:justify; \">This document is designed to provide a <i>quick start guide</i> for anyone who wants to test the code. Currently, the code is in <code>Development Status :: 4 - Beta</code>, thus obviously code and functionalities will be upgraded with new features. <b>Note:</b> minimal documentation is currently provided, and will be updated in time.</p>\n",
    "\n",
    "Get started by `pip install VisualCrossing`, and then import the package as:"
   ]
  },
  {
   "cell_type": "code",
   "execution_count": 9,
   "metadata": {
    "ExecuteTime": {
     "end_time": "2024-01-31T19:07:31.057743Z",
     "start_time": "2024-01-31T19:07:30.906051Z"
    }
   },
   "outputs": [],
   "source": [
    "import VisualCrossing as vc\n",
    "\n",
    "# get installed version\n",
    "# print(vc.__version__)"
   ]
  },
  {
   "cell_type": "code",
   "execution_count": 16,
   "metadata": {
    "ExecuteTime": {
     "end_time": "2024-01-31T15:14:12.234125Z",
     "start_time": "2024-01-31T15:14:12.219139Z"
    },
    "collapsed": true,
    "deletable": false,
    "editable": false,
    "run_control": {
     "frozen": true
    }
   },
   "outputs": [
    {
     "name": "stdout",
     "output_type": "stream",
     "text": [
      "Help on class API in module VisualCrossing.api:\n",
      "\n",
      "class API(base)\n",
      " |  API(start: str, locations: list, key: str, **kwargs) -> None\n",
      " |  \n",
      " |  A python wrapper to fetch weather data from VisualCrossing\n",
      " |  \n",
      " |  The function is devised keeping in mind - minimal coding approach, and\n",
      " |  recurrent job-scheduling for any person. All the keyword arguments that\n",
      " |  the API accepts are same as that available in the Visual Crossing API\n",
      " |  Documentation (check README for more information). The API is configured\n",
      " |  with default values, which is easier to understand and retreive. However,\n",
      " |  the data requires certain required arguments defined below. The same can\n",
      " |  also be obtained from `config.json` file, but is not recommended.\n",
      " |  \n",
      " |  :type  start: str or dt.date\n",
      " |  :param start: The starting and ending data to fetch the data from the\n",
      " |      API. The date is to be either in `str(\"%Y-%m-%d\")` format or an\n",
      " |      instance of the `dt.date()` class.\n",
      " |      \n",
      " |  :type  locations: list\n",
      " |  :param locations: A list of location, which can be either a list of place\n",
      " |      name with ISO2 parameter like: `[\"Delhi,IN\", \"Kolkata,IN\", ...]` or\n",
      " |      can also pass the location as `latitude,longitude` combination like:\n",
      " |      `[\"28.704059,77.102490\", \"22.986757,87.854976\", ...]`. The Visual\n",
      " |      Crossing API is designed to fetch data for one single location,\n",
      " |      however, this libraru sypports multiple location input and create an\n",
      " |      iterable object on the data response.\n",
      " |      \n",
      " |  :type  key: str\n",
      " |  :param key: Obtain an API key from https://www.visualcrossing.com/ and\n",
      " |      pass the value as a string. Typically, the key is a 25 digit\n",
      " |      alphanumeric key in all caps.\n",
      " |      \n",
      " |  Keyword Arguments\n",
      " |  -----------------\n",
      " |      * **`end`** (`str` or `dt.date`): The end date, which is optional, and\n",
      " |          the format is either `str(\"%Y-%m-%d\")` or an instance of the\n",
      " |          `dt.date()` class.\n",
      " |  \n",
      " |  Method resolution order:\n",
      " |      API\n",
      " |      base\n",
      " |      builtins.object\n",
      " |  \n",
      " |  Methods defined here:\n",
      " |  \n",
      " |  __init__(self, start: str, locations: list, key: str, **kwargs) -> None\n",
      " |      Initialize self.  See help(type(self)) for accurate signature.\n",
      " |  \n",
      " |  response(self, formatting: str = 'json', onfail: str = 'pass', verbose: bool = True) -> object\n",
      " |      Get the API Response from the Visual Crossing API\n",
      " |      \n",
      " |      Get the API response, and format the data based on the required\n",
      " |      formatting, which is by default `json` which is rendered as `dict`\n",
      " |      in python.\n",
      " |      \n",
      " |      :type  formatting: str\n",
      " |      :param formatting: Final output format of all the response in a\n",
      " |          consolidated format. The output format can be any of the following:\n",
      " |          `[json, csv]`. Defaults to `json`. # TODO other formatting.\n",
      " |          \n",
      " |      :type  onfail: str\n",
      " |      :param onfail: When a set of date, locations or any other iterable\n",
      " |          format is passed, the query may fail - server unavailable, calls\n",
      " |          exhausted, etc. The parameter can be set to either `pass` to\n",
      " |          return only the fetched/parsed records, while setting value to\n",
      " |          `fail` the code fails if any parsing is failed. Defaults to\n",
      " |          `pass`. # TODO other failing criteria\n",
      " |  \n",
      " |  ----------------------------------------------------------------------\n",
      " |  Methods inherited from base:\n",
      " |  \n",
      " |  write_json(self, values: dict, fname: str, **kwargs) -> bool\n",
      " |  \n",
      " |  ----------------------------------------------------------------------\n",
      " |  Readonly properties inherited from base:\n",
      " |  \n",
      " |  URI\n",
      " |  \n",
      " |  ----------------------------------------------------------------------\n",
      " |  Data descriptors inherited from base:\n",
      " |  \n",
      " |  __dict__\n",
      " |      dictionary for instance variables (if defined)\n",
      " |  \n",
      " |  __weakref__\n",
      " |      list of weak references to the object (if defined)\n",
      "\n"
     ]
    }
   ],
   "source": [
    "help(vc.API) # check documentation"
   ]
  },
  {
   "cell_type": "markdown",
   "metadata": {},
   "source": [
    "The API requires three minimal options:\n",
    "1. Date for which the data is required, in `YYYY-MM-DD` format,\n",
    "2. API Key which can be obtained from [website](https://www.visualcrossing.com/weather-api), and\n",
    "3. Location for which data is required. The location can be of the following types:\n",
    "   * Name of a single place, like `\"india\"`,\n",
    "   * Coordinates of a place (if data for the coordinate is not available, then nearest location data is returned), this should be in `\"latitude,longitude\"` format,\n",
    "   * To retreive location for multiple location, pass the data like:\n",
    "   ```python\n",
    "    [\"india\", \"tokyo\"] # either passing names,\n",
    "    [\"20.593683,78.962883\", \"35.689487,139.691711\"] # passing list/tuple of coordinates,\n",
    "    (\"india\", \"35.689487,139.691711\") # or even a combination of name or coordinate\n",
    "   ```\n",
    "   * _you can also use US ZIP Codes_.\n",
    "\n",
    "Location is also available by `(lat, lon)` pairs, for which you can also use [this website](https://www.latlong.net/) to find location easily."
   ]
  },
  {
   "cell_type": "code",
   "execution_count": 10,
   "metadata": {
    "ExecuteTime": {
     "end_time": "2024-01-31T19:07:31.073605Z",
     "start_time": "2024-01-31T19:07:31.061603Z"
    }
   },
   "outputs": [],
   "source": [
    "locations = {idx : f\"{row.CityLocation[0]},{row.CityLocation[1]}\" for idx, row in mwCities.iterrows()}\n",
    "# api = vc.API(\"2021-09-25\", APIKey = os.getenv(\"__api_key__\"), location = locations, contentType = \"dataframe\") # default parameters are set from `config.json`"
   ]
  },
  {
   "cell_type": "code",
   "execution_count": 11,
   "metadata": {
    "ExecuteTime": {
     "end_time": "2024-01-31T19:07:31.088695Z",
     "start_time": "2024-01-31T19:07:31.074602Z"
    }
   },
   "outputs": [],
   "source": [
    "api = vc.API(start = \"1975-01-01\", locations = locations.values(), key = \"\", end = \"1975-12-31\")"
   ]
  },
  {
   "cell_type": "code",
   "execution_count": 12,
   "metadata": {
    "ExecuteTime": {
     "end_time": "2024-01-31T19:12:31.008599Z",
     "start_time": "2024-01-31T19:07:31.089694Z"
    }
   },
   "outputs": [
    {
     "name": "stderr",
     "output_type": "stream",
     "text": [
      "100%|███████████████████████████████████████████████████████████████████████████████████████████████████████████████████████████████████████████████████████████████████████████| 162/162 [04:59<00:00,  1.85s/it]"
     ]
    },
    {
     "name": "stdout",
     "output_type": "stream",
     "text": [
      "Total Query Cost: 1,084,627\n"
     ]
    },
    {
     "name": "stderr",
     "output_type": "stream",
     "text": [
      "\n"
     ]
    }
   ],
   "source": [
    "responses = api.response()"
   ]
  },
  {
   "cell_type": "code",
   "execution_count": 13,
   "metadata": {
    "ExecuteTime": {
     "end_time": "2024-01-31T19:12:31.023456Z",
     "start_time": "2024-01-31T19:12:31.009459Z"
    }
   },
   "outputs": [],
   "source": [
    "def exists(station_id : str, engine : object) -> bool:\n",
    "    # check if a station exists\n",
    "    statement = f\"SELECT * FROM `dbo.mwVCWeatherStations` WHERE VCWeatherStationID = '{station_id}';\"\n",
    "    records = engine.execute(statement).fetchall()\n",
    "    return True if records else False"
   ]
  },
  {
   "cell_type": "code",
   "execution_count": 14,
   "metadata": {
    "ExecuteTime": {
     "end_time": "2024-01-31T19:12:39.673182Z",
     "start_time": "2024-01-31T19:12:31.025458Z"
    },
    "code_folding": []
   },
   "outputs": [
    {
     "name": "stderr",
     "output_type": "stream",
     "text": [
      "100%|███████████████████████████████████████████████████████████████████████████████████████████████████████████████████████████████████████████████████████████████████████████| 162/162 [00:08<00:00, 18.79it/s]\n"
     ]
    }
   ],
   "source": [
    "for response in TQ(responses):\n",
    "    try:\n",
    "        for station, value in response[\"stations\"].items():\n",
    "            insert_statement = \"INSERT INTO `dbo.mwVCWeatherStations` VALUES ('{VCWeatherStationID}', '{StationName}', {StationLatitude:.6f}, {StationLongitude:.6f}, {StationQuality:.2f}, {StationContribution:.2f});\"\n",
    "            insert_statement = insert_statement.format(\n",
    "                VCWeatherStationID = station,\n",
    "                StationName = value[\"name\"],\n",
    "                StationLatitude = value[\"latitude\"],\n",
    "                StationLongitude = value[\"longitude\"],\n",
    "                StationQuality = value[\"quality\"],\n",
    "                StationContribution = value[\"contribution\"]\n",
    "            )\n",
    "\n",
    "            if not exists(station, engine = engine_testdb):\n",
    "                engine_testdb.execute(insert_statement)\n",
    "    except Exception as err:\n",
    "        pass # print(\"Failed to Fetch Stations for Resolved Address = \", response[\"resolvedAddress\"])"
   ]
  },
  {
   "cell_type": "code",
   "execution_count": 15,
   "metadata": {
    "ExecuteTime": {
     "end_time": "2024-01-31T19:12:39.689098Z",
     "start_time": "2024-01-31T19:12:39.675094Z"
    },
    "code_folding": [
     0
    ]
   },
   "outputs": [],
   "source": [
    "rename_final_columns = {\n",
    "    \"datetime\" : \"EffectiveDate\",\n",
    "    \"tempmax\" : \"TempMax\",\n",
    "    \"tempmin\" : \"TempMin\",\n",
    "    \"temp\" : \"TempAvg\",\n",
    "    \"feelslikemax\" : \"FeelsLikeMax\",\n",
    "    \"feelslikemin\" : \"FeelsLikeMin\",\n",
    "    \"feelslike\" : \"FeelsLikeAvg\",\n",
    "    \"dew\" : \"DewTemp\",\n",
    "    \"humidity\" : \"HumidityPercent\",\n",
    "    \"precip\" : \"PrecipAmt\",\n",
    "    \"precipprob\" : \"PrecipProb\",\n",
    "    \"precipcover\" : \"PrecipCover\",\n",
    "    \"preciptype\" : \"PrecipType\",\n",
    "    \"snow\" : \"SnowCover\",\n",
    "    \"snowdepth\" : \"SnowDepth\",\n",
    "    \"windgust\" : \"WindGust\",\n",
    "    \"windspeed\" : \"WindSpeed\",\n",
    "    \"winddir\" : \"WindDir\",\n",
    "    \"pressure\" : \"AtmPressure\",\n",
    "    \"cloudcover\" : \"CloudCoverage\",\n",
    "    \"visibility\" : \"VisibilityDist\",\n",
    "    \"solarradiation\" : \"SolarRadiation\",\n",
    "    \"solarenergy\" : \"SolarEnergy\",\n",
    "    \"sunrise\" : \"SunRise\",\n",
    "    \"sunset\" : \"SunSet\",\n",
    "    \"moonphase\" : \"MoonPhase\",\n",
    "    \"conditions\" : \"WeatherCond\",\n",
    "    \"description\" : \"WeatherDesc\",\n",
    "    \"icon\" : \"WeatherIcon\",\n",
    "    \"stations\" : \"_stations\",\n",
    "    \"source\" : \"_source\",\n",
    "}"
   ]
  },
  {
   "cell_type": "code",
   "execution_count": 16,
   "metadata": {
    "ExecuteTime": {
     "end_time": "2024-01-31T19:12:41.833742Z",
     "start_time": "2024-01-31T19:12:39.689821Z"
    }
   },
   "outputs": [
    {
     "name": "stderr",
     "output_type": "stream",
     "text": [
      "100%|███████████████████████████████████████████████████████████████████████████████████████████████████████████████████████████████████████████████████████████████████████████| 162/162 [00:01<00:00, 86.73it/s]\n"
     ]
    }
   ],
   "source": [
    "tblDailyWeather = []\n",
    "for response, (CityUUID, _) in TQ(zip(responses, locations.items()), total = len(responses)):\n",
    "    ResolvedLocation = response[\"resolvedAddress\"]\n",
    "    tblDailyWeather_ = pd.DataFrame(response[\"days\"])\n",
    "    \n",
    "    for existing_col_name, final_col_name in rename_final_columns.items():\n",
    "        try:\n",
    "            tblDailyWeather_.rename(columns = {existing_col_name : final_col_name}, inplace = True)\n",
    "        except:\n",
    "            pass\n",
    "        \n",
    "    tblDailyWeather_ = tblDailyWeather_[[col for col in tblDailyWeather_.columns if col in list(rename_final_columns.values())]]\n",
    "    tblDailyWeather_[\"CityUUID\"] = CityUUID\n",
    "    tblDailyWeather_[\"ResolvedLocation\"] = ResolvedLocation\n",
    "    \n",
    "    if \"_stations\" in tblDailyWeather_.columns:\n",
    "        tblDailyWeather_[\"_stations\"] = tblDailyWeather_[\"_stations\"].apply(lambda x : \",\".join(x) if x else None)\n",
    "    else:\n",
    "        tblDailyWeather_[\"_stations\"] = None\n",
    "        \n",
    "    if \"PrecipType\" in tblDailyWeather_.columns:\n",
    "        tblDailyWeather_[\"PrecipType\"] = tblDailyWeather_[\"PrecipType\"].apply(lambda x : \",\".join(x) if x else None)\n",
    "    else:\n",
    "        tblDailyWeather_[\"PrecipType\"] = None\n",
    "    \n",
    "    tblDailyWeather.append(tblDailyWeather_)\n",
    "\n",
    "tblDailyWeather = pd.concat(tblDailyWeather)"
   ]
  },
  {
   "cell_type": "code",
   "execution_count": 17,
   "metadata": {
    "ExecuteTime": {
     "end_time": "2024-01-31T19:12:42.802880Z",
     "start_time": "2024-01-31T19:12:41.837744Z"
    }
   },
   "outputs": [],
   "source": [
    "tblDailyWeather[\"SunRise\"] = pd.to_datetime(tblDailyWeather[[\"EffectiveDate\", \"SunRise\"]].apply(lambda x : f\"{x[0]} {x[1]}\", axis = 1), format = \"%Y-%m-%d\")\n",
    "tblDailyWeather[\"SunSet\"] = pd.to_datetime(tblDailyWeather[[\"EffectiveDate\", \"SunSet\"]].apply(lambda x : f\"{x[0]} {x[1]}\", axis = 1), format = \"%Y-%m-%d\")"
   ]
  },
  {
   "cell_type": "code",
   "execution_count": 18,
   "metadata": {
    "ExecuteTime": {
     "end_time": "2024-01-31T19:12:44.735755Z",
     "start_time": "2024-01-31T19:12:42.804699Z"
    }
   },
   "outputs": [
    {
     "name": "stderr",
     "output_type": "stream",
     "text": [
      "100%|█████████████████████████████████████████████████████████████████████████████████████████████████████████████████████████████████████████████████████████████████████████████| 33/33 [00:01<00:00, 17.23it/s]\n"
     ]
    }
   ],
   "source": [
    "for column in TQ(tblDailyWeather.columns):\n",
    "    tblDailyWeather[column] = tblDailyWeather[column].apply(lambda x : np.nan if str(x).strip().replace(\"  \", \" \") == \"\" else x)\n",
    "    tblDailyWeather[column].fillna(value = np.nan, inplace = True)"
   ]
  },
  {
   "cell_type": "code",
   "execution_count": 19,
   "metadata": {
    "ExecuteTime": {
     "end_time": "2024-01-31T19:13:00.521860Z",
     "start_time": "2024-01-31T19:12:44.736626Z"
    }
   },
   "outputs": [
    {
     "data": {
      "text/plain": [
       "59130"
      ]
     },
     "execution_count": 19,
     "metadata": {},
     "output_type": "execute_result"
    }
   ],
   "source": [
    "tblDailyWeather.to_sql(\"tblDailyWeather\", engine_testdb, index = False, if_exists = \"append\")"
   ]
  },
  {
   "cell_type": "code",
   "execution_count": 20,
   "metadata": {
    "ExecuteTime": {
     "end_time": "2024-01-31T19:15:21.059925Z",
     "start_time": "2024-01-31T19:13:00.522861Z"
    }
   },
   "outputs": [],
   "source": [
    "with open(\"responses.json\", \"w\") as f:\n",
    "    json.dump(responses, f, indent = 2)"
   ]
  }
 ],
 "metadata": {
  "hide_input": false,
  "kernelspec": {
   "display_name": "Python 3 (ipykernel)",
   "language": "python",
   "name": "python3"
  },
  "language_info": {
   "codemirror_mode": {
    "name": "ipython",
    "version": 3
   },
   "file_extension": ".py",
   "mimetype": "text/x-python",
   "name": "python",
   "nbconvert_exporter": "python",
   "pygments_lexer": "ipython3",
   "version": "3.9.13"
  },
  "latex_envs": {
   "LaTeX_envs_menu_present": true,
   "autoclose": true,
   "autocomplete": true,
   "bibliofile": "biblio.bib",
   "cite_by": "apalike",
   "current_citInitial": 1,
   "eqLabelWithNumbers": true,
   "eqNumInitial": 1,
   "hotkeys": {
    "equation": "Ctrl-E",
    "itemize": "Ctrl-I"
   },
   "labels_anchors": false,
   "latex_user_defs": false,
   "report_style_numbering": false,
   "user_envs_cfg": false
  },
  "toc": {
   "base_numbering": 1,
   "nav_menu": {},
   "number_sections": false,
   "sideBar": true,
   "skip_h1_title": true,
   "title_cell": "Table of Contents",
   "title_sidebar": "Contents",
   "toc_cell": false,
   "toc_position": {},
   "toc_section_display": true,
   "toc_window_display": false
  },
  "varInspector": {
   "cols": {
    "lenName": 16,
    "lenType": 16,
    "lenVar": 40
   },
   "kernels_config": {
    "python": {
     "delete_cmd_postfix": "",
     "delete_cmd_prefix": "del ",
     "library": "var_list.py",
     "varRefreshCmd": "print(var_dic_list())"
    },
    "r": {
     "delete_cmd_postfix": ") ",
     "delete_cmd_prefix": "rm(",
     "library": "var_list.r",
     "varRefreshCmd": "cat(var_dic_list()) "
    }
   },
   "types_to_exclude": [
    "module",
    "function",
    "builtin_function_or_method",
    "instance",
    "_Feature"
   ],
   "window_display": false
  }
 },
 "nbformat": 4,
 "nbformat_minor": 2
}
